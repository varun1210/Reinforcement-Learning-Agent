{
 "cells": [
  {
   "cell_type": "code",
   "execution_count": 1,
   "metadata": {
    "colab": {
     "base_uri": "https://localhost:8080/"
    },
    "id": "1De30ou6Lysx",
    "outputId": "a71f852c-5186-4181-842d-62433f11c097"
   },
   "outputs": [
    {
     "name": "stdout",
     "output_type": "stream",
     "text": [
      "Looking in indexes: https://pypi.org/simple, https://us-python.pkg.dev/colab-wheels/public/simple/\n",
      "Requirement already satisfied: gymnasium in /usr/local/lib/python3.8/dist-packages (0.27.1)\n",
      "Requirement already satisfied: matplotlib in /usr/local/lib/python3.8/dist-packages (3.2.2)\n",
      "Requirement already satisfied: numpy in /usr/local/lib/python3.8/dist-packages (1.21.6)\n",
      "Requirement already satisfied: importlib-metadata>=4.8.0 in /usr/local/lib/python3.8/dist-packages (from gymnasium) (6.0.0)\n",
      "Requirement already satisfied: gymnasium-notices>=0.0.1 in /usr/local/lib/python3.8/dist-packages (from gymnasium) (0.0.1)\n",
      "Requirement already satisfied: jax-jumpy>=0.2.0 in /usr/local/lib/python3.8/dist-packages (from gymnasium) (0.2.0)\n",
      "Requirement already satisfied: cloudpickle>=1.2.0 in /usr/local/lib/python3.8/dist-packages (from gymnasium) (2.2.1)\n",
      "Requirement already satisfied: typing-extensions>=4.3.0 in /usr/local/lib/python3.8/dist-packages (from gymnasium) (4.4.0)\n",
      "Requirement already satisfied: cycler>=0.10 in /usr/local/lib/python3.8/dist-packages (from matplotlib) (0.11.0)\n",
      "Requirement already satisfied: python-dateutil>=2.1 in /usr/local/lib/python3.8/dist-packages (from matplotlib) (2.8.2)\n",
      "Requirement already satisfied: pyparsing!=2.0.4,!=2.1.2,!=2.1.6,>=2.0.1 in /usr/local/lib/python3.8/dist-packages (from matplotlib) (3.0.9)\n",
      "Requirement already satisfied: kiwisolver>=1.0.1 in /usr/local/lib/python3.8/dist-packages (from matplotlib) (1.4.4)\n",
      "Requirement already satisfied: zipp>=0.5 in /usr/local/lib/python3.8/dist-packages (from importlib-metadata>=4.8.0->gymnasium) (3.12.0)\n",
      "Requirement already satisfied: six>=1.5 in /usr/local/lib/python3.8/dist-packages (from python-dateutil>=2.1->matplotlib) (1.15.0)\n"
     ]
    }
   ],
   "source": [
    "!pip install gymnasium matplotlib numpy"
   ]
  },
  {
   "cell_type": "code",
   "execution_count": 2,
   "metadata": {
    "id": "vzLSDtlzL3mt"
   },
   "outputs": [],
   "source": [
    "from google.colab import widgets\n",
    "import gymnasium as gym\n",
    "from gymnasium import spaces\n",
    "import matplotlib.pyplot as plt\n",
    "import numpy as np\n",
    "import time"
   ]
  },
  {
   "cell_type": "code",
   "execution_count": 3,
   "metadata": {
    "colab": {
     "base_uri": "https://localhost:8080/",
     "height": 273
    },
    "id": "PfOnKRT7L46q",
    "outputId": "a36118a9-b2ab-46cc-98e4-d0a6d05ea9e0"
   },
   "outputs": [
    {
     "data": {
      "text/html": [
       "<style>\n",
       "       table#id2, #id2 > tbody > tr > th, #id2 > tbody > tr > td {\n",
       "         border: 1px solid lightgray;\n",
       "         border-collapse:collapse;\n",
       "         \n",
       "        }</style>"
      ],
      "text/plain": [
       "<IPython.core.display.HTML object>"
      ]
     },
     "metadata": {},
     "output_type": "display_data"
    },
    {
     "data": {
      "text/html": [
       "<table id=id2><tr><td id=id2-0-0></td></tr></table>"
      ],
      "text/plain": [
       "<IPython.core.display.HTML object>"
      ]
     },
     "metadata": {},
     "output_type": "display_data"
    },
    {
     "data": {
      "application/javascript": [
       "window[\"cc6f59c4-a55c-11ed-b702-0242ac1c000c\"] = google.colab.output.getActiveOutputArea();\n",
       "//# sourceURL=js_ee1e08da30"
      ],
      "text/plain": [
       "<IPython.core.display.Javascript object>"
      ]
     },
     "metadata": {},
     "output_type": "display_data"
    },
    {
     "data": {
      "application/javascript": [
       "window[\"cc6fff96-a55c-11ed-b702-0242ac1c000c\"] = document.querySelector(\"#id2-0-0\");\n",
       "//# sourceURL=js_882a9e6576"
      ],
      "text/plain": [
       "<IPython.core.display.Javascript object>"
      ]
     },
     "metadata": {},
     "output_type": "display_data"
    },
    {
     "data": {
      "application/javascript": [
       "window[\"cc7052a2-a55c-11ed-b702-0242ac1c000c\"] = google.colab.output.setActiveOutputArea(window[\"cc6fff96-a55c-11ed-b702-0242ac1c000c\"]);\n",
       "//# sourceURL=js_6d1afaa1db"
      ],
      "text/plain": [
       "<IPython.core.display.Javascript object>"
      ]
     },
     "metadata": {},
     "output_type": "display_data"
    },
    {
     "data": {
      "application/javascript": [
       "window[\"ccae1eca-a55c-11ed-b702-0242ac1c000c\"] = google.colab.output.setActiveOutputArea(window[\"cc6f59c4-a55c-11ed-b702-0242ac1c000c\"]);\n",
       "//# sourceURL=js_38d5a044c7"
      ],
      "text/plain": [
       "<IPython.core.display.Javascript object>"
      ]
     },
     "metadata": {},
     "output_type": "display_data"
    },
    {
     "data": {
      "application/javascript": [
       "window[\"cd4a146a-a55c-11ed-b702-0242ac1c000c\"] = google.colab.output.getActiveOutputArea();\n",
       "//# sourceURL=js_2a7ded5bb3"
      ],
      "text/plain": [
       "<IPython.core.display.Javascript object>"
      ]
     },
     "metadata": {},
     "output_type": "display_data"
    },
    {
     "data": {
      "application/javascript": [
       "window[\"cd4aa074-a55c-11ed-b702-0242ac1c000c\"] = document.querySelector(\"#id2-0-0\");\n",
       "//# sourceURL=js_589b98089a"
      ],
      "text/plain": [
       "<IPython.core.display.Javascript object>"
      ]
     },
     "metadata": {},
     "output_type": "display_data"
    },
    {
     "data": {
      "application/javascript": [
       "window[\"cd4b1720-a55c-11ed-b702-0242ac1c000c\"] = google.colab.output.setActiveOutputArea(window[\"cd4aa074-a55c-11ed-b702-0242ac1c000c\"]);\n",
       "//# sourceURL=js_170d99c93f"
      ],
      "text/plain": [
       "<IPython.core.display.Javascript object>"
      ]
     },
     "metadata": {},
     "output_type": "display_data"
    },
    {
     "data": {
      "application/javascript": [
       "window[\"cd66411c-a55c-11ed-b702-0242ac1c000c\"] = google.colab.output.setActiveOutputArea(window[\"cd4a146a-a55c-11ed-b702-0242ac1c000c\"]);\n",
       "//# sourceURL=js_a08388bab5"
      ],
      "text/plain": [
       "<IPython.core.display.Javascript object>"
      ]
     },
     "metadata": {},
     "output_type": "display_data"
    },
    {
     "data": {
      "application/javascript": [
       "window[\"ce01f7f6-a55c-11ed-b702-0242ac1c000c\"] = google.colab.output.getActiveOutputArea();\n",
       "//# sourceURL=js_9ab57a2f9b"
      ],
      "text/plain": [
       "<IPython.core.display.Javascript object>"
      ]
     },
     "metadata": {},
     "output_type": "display_data"
    },
    {
     "data": {
      "application/javascript": [
       "window[\"ce03045c-a55c-11ed-b702-0242ac1c000c\"] = document.querySelector(\"#id2-0-0\");\n",
       "//# sourceURL=js_dd6fd60dcb"
      ],
      "text/plain": [
       "<IPython.core.display.Javascript object>"
      ]
     },
     "metadata": {},
     "output_type": "display_data"
    },
    {
     "data": {
      "application/javascript": [
       "window[\"ce04afd2-a55c-11ed-b702-0242ac1c000c\"] = google.colab.output.setActiveOutputArea(window[\"ce03045c-a55c-11ed-b702-0242ac1c000c\"]);\n",
       "//# sourceURL=js_e44ff06e79"
      ],
      "text/plain": [
       "<IPython.core.display.Javascript object>"
      ]
     },
     "metadata": {},
     "output_type": "display_data"
    },
    {
     "data": {
      "application/javascript": [
       "window[\"ce6231ca-a55c-11ed-b702-0242ac1c000c\"] = google.colab.output.setActiveOutputArea(window[\"ce01f7f6-a55c-11ed-b702-0242ac1c000c\"]);\n",
       "//# sourceURL=js_42890ef185"
      ],
      "text/plain": [
       "<IPython.core.display.Javascript object>"
      ]
     },
     "metadata": {},
     "output_type": "display_data"
    },
    {
     "data": {
      "application/javascript": [
       "window[\"cf01918e-a55c-11ed-b702-0242ac1c000c\"] = google.colab.output.getActiveOutputArea();\n",
       "//# sourceURL=js_74479393e4"
      ],
      "text/plain": [
       "<IPython.core.display.Javascript object>"
      ]
     },
     "metadata": {},
     "output_type": "display_data"
    },
    {
     "data": {
      "application/javascript": [
       "window[\"cf0268c0-a55c-11ed-b702-0242ac1c000c\"] = document.querySelector(\"#id2-0-0\");\n",
       "//# sourceURL=js_aaf5dd8506"
      ],
      "text/plain": [
       "<IPython.core.display.Javascript object>"
      ]
     },
     "metadata": {},
     "output_type": "display_data"
    },
    {
     "data": {
      "application/javascript": [
       "window[\"cf039ea2-a55c-11ed-b702-0242ac1c000c\"] = google.colab.output.setActiveOutputArea(window[\"cf0268c0-a55c-11ed-b702-0242ac1c000c\"]);\n",
       "//# sourceURL=js_87b8d9537a"
      ],
      "text/plain": [
       "<IPython.core.display.Javascript object>"
      ]
     },
     "metadata": {},
     "output_type": "display_data"
    },
    {
     "data": {
      "application/javascript": [
       "window[\"cf45fb9e-a55c-11ed-b702-0242ac1c000c\"] = google.colab.output.setActiveOutputArea(window[\"cf01918e-a55c-11ed-b702-0242ac1c000c\"]);\n",
       "//# sourceURL=js_da130750a4"
      ],
      "text/plain": [
       "<IPython.core.display.Javascript object>"
      ]
     },
     "metadata": {},
     "output_type": "display_data"
    },
    {
     "data": {
      "application/javascript": [
       "window[\"cfe3b00a-a55c-11ed-b702-0242ac1c000c\"] = google.colab.output.getActiveOutputArea();\n",
       "//# sourceURL=js_f6fec8e16f"
      ],
      "text/plain": [
       "<IPython.core.display.Javascript object>"
      ]
     },
     "metadata": {},
     "output_type": "display_data"
    },
    {
     "data": {
      "application/javascript": [
       "window[\"cfe4e7f4-a55c-11ed-b702-0242ac1c000c\"] = document.querySelector(\"#id2-0-0\");\n",
       "//# sourceURL=js_a9ae26d189"
      ],
      "text/plain": [
       "<IPython.core.display.Javascript object>"
      ]
     },
     "metadata": {},
     "output_type": "display_data"
    },
    {
     "data": {
      "application/javascript": [
       "window[\"cfe5efe6-a55c-11ed-b702-0242ac1c000c\"] = google.colab.output.setActiveOutputArea(window[\"cfe4e7f4-a55c-11ed-b702-0242ac1c000c\"]);\n",
       "//# sourceURL=js_b2abe1fb68"
      ],
      "text/plain": [
       "<IPython.core.display.Javascript object>"
      ]
     },
     "metadata": {},
     "output_type": "display_data"
    },
    {
     "data": {
      "image/png": "[encoded data removed]",
      "text/plain": [
       "<Figure size 432x288 with 1 Axes>"
      ]
     },
     "metadata": {
      "needs_background": "light"
     },
     "output_type": "display_data"
    },
    {
     "data": {
      "application/javascript": [
       "window[\"d0426c80-a55c-11ed-b702-0242ac1c000c\"] = google.colab.output.setActiveOutputArea(window[\"cfe3b00a-a55c-11ed-b702-0242ac1c000c\"]);\n",
       "//# sourceURL=js_620a61d3b4"
      ],
      "text/plain": [
       "<IPython.core.display.Javascript object>"
      ]
     },
     "metadata": {},
     "output_type": "display_data"
    }
   ],
   "source": [
    "output_grid = widgets.Grid(1, 1)\n",
    "for _ in range(5):\n",
    "  grid = np.zeros((3, 3))\n",
    "  grid[np.random.randint(3), np.random.randint(3)] = 1\n",
    "\n",
    "  with output_grid.output_to(0, 0):\n",
    "    output_grid.clear_cell()\n",
    "    plt.imshow(grid)\n",
    "  time.sleep(1)"
   ]
  },
  {
   "cell_type": "code",
   "execution_count": 4,
   "metadata": {
    "id": "vNy_7i2jL8VQ"
   },
   "outputs": [],
   "source": [
    "class GridEnvironment(gym.Env):\n",
    "    metadata = { 'render.modes': [] }\n",
    "    \n",
    "    def __init__(self):\n",
    "\n",
    "        self.observation_space = spaces.Discrete(9)\n",
    "        self.action_space = spaces.Discrete(4)\n",
    "        self.max_timesteps = 5\n",
    "\n",
    "        self.timestep = 0\n",
    "        self.agent_pos = [0, 0]\n",
    "        self.goal_pos = [2, 2]\n",
    "        self.state = np.zeros((3,3))\n",
    "        self.state[tuple(self.agent_pos)] = 1\n",
    "        self.state[tuple(self.goal_pos)] = 0.5\n",
    "\n",
    "        \n",
    "    def reset(self, **kwargs):\n",
    "\n",
    "        self.state = np.zeros((3,3))\n",
    "        self.state[tuple(self.agent_pos)] = 1\n",
    "        self.state[tuple(self.goal_pos)] = 0.5\n",
    "        observation = self.state.flatten()\n",
    "\n",
    "        info = {}\n",
    "\n",
    "        return observation, info\n",
    "    \n",
    "    def step(self, action):\n",
    "\n",
    "        if action == 0:\n",
    "          self.agent_pos[0] += 1\n",
    "        if action == 1:\n",
    "          self.agent_pos[0] -= 1\n",
    "        if action == 2:\n",
    "          self.agent_pos[1] += 1\n",
    "        if action == 3:\n",
    "          self.agent_pos[1] -= 1\n",
    "\n",
    "        # Comment this to demonstrate the truncation condition.\n",
    "        self.agent_pos = np.clip(self.agent_pos, 0, 2)\n",
    "\n",
    "        self.state = np.zeros((3,3))\n",
    "        self.state[tuple(self.agent_pos)] = 1\n",
    "        self.state[tuple(self.goal_pos)] = 0.5\n",
    "        observation = self.state.flatten()\n",
    "        \n",
    "        reward = 0\n",
    "        if np.array_equal(self.agent_pos, self.goal_pos):\n",
    "          reward = 1\n",
    "        \n",
    "        self.timestep += 1\n",
    "\n",
    "        terminated = True if self.timestep >= self.max_timesteps else False\n",
    "        truncated = True if np.all((self.agent_pos >=0 ) & (self.agent_pos <= 2)) else False\n",
    "\n",
    "        info = {}\n",
    "        \n",
    "        return observation, reward, terminated, truncated, info\n",
    "        \n",
    "    def render(self):\n",
    "        plt.imshow(self.state)"
   ]
  },
  {
   "cell_type": "code",
   "execution_count": 5,
   "metadata": {
    "id": "Czjyx0D_L-it"
   },
   "outputs": [],
   "source": [
    "class RandomAgent:\n",
    "  def __init__(self, env):\n",
    "    self.env = env\n",
    "    self.observation_space = env.observation_space\n",
    "    self.action_space = env.action_space\n",
    "\n",
    "  def step(self, obs):\n",
    "    return np.random.choice(self.action_space.n)"
   ]
  },
  {
   "cell_type": "code",
   "execution_count": 9,
   "metadata": {
    "colab": {
     "base_uri": "https://localhost:8080/",
     "height": 273
    },
    "id": "o333bWhuNIH3",
    "outputId": "32878ca6-65b6-441a-d136-932f97b08eca"
   },
   "outputs": [
    {
     "data": {
      "text/html": [
       "<style>\n",
       "       table#id6, #id6 > tbody > tr > th, #id6 > tbody > tr > td {\n",
       "         border: 1px solid lightgray;\n",
       "         border-collapse:collapse;\n",
       "         \n",
       "        }</style>"
      ],
      "text/plain": [
       "<IPython.core.display.HTML object>"
      ]
     },
     "metadata": {},
     "output_type": "display_data"
    },
    {
     "data": {
      "text/html": [
       "<table id=id6><tr><td id=id6-0-0></td></tr></table>"
      ],
      "text/plain": [
       "<IPython.core.display.HTML object>"
      ]
     },
     "metadata": {},
     "output_type": "display_data"
    },
    {
     "data": {
      "application/javascript": [
       "window[\"ecc0bf92-a55c-11ed-b702-0242ac1c000c\"] = google.colab.output.getActiveOutputArea();\n",
       "//# sourceURL=js_afecb83fa1"
      ],
      "text/plain": [
       "<IPython.core.display.Javascript object>"
      ]
     },
     "metadata": {},
     "output_type": "display_data"
    },
    {
     "data": {
      "application/javascript": [
       "window[\"ecc10b8c-a55c-11ed-b702-0242ac1c000c\"] = document.querySelector(\"#id6-0-0\");\n",
       "//# sourceURL=js_59ad377d15"
      ],
      "text/plain": [
       "<IPython.core.display.Javascript object>"
      ]
     },
     "metadata": {},
     "output_type": "display_data"
    },
    {
     "data": {
      "application/javascript": [
       "window[\"ecc17734-a55c-11ed-b702-0242ac1c000c\"] = google.colab.output.setActiveOutputArea(window[\"ecc10b8c-a55c-11ed-b702-0242ac1c000c\"]);\n",
       "//# sourceURL=js_a103cca92b"
      ],
      "text/plain": [
       "<IPython.core.display.Javascript object>"
      ]
     },
     "metadata": {},
     "output_type": "display_data"
    },
    {
     "data": {
      "application/javascript": [
       "window[\"ecd98298-a55c-11ed-b702-0242ac1c000c\"] = google.colab.output.setActiveOutputArea(window[\"ecc0bf92-a55c-11ed-b702-0242ac1c000c\"]);\n",
       "//# sourceURL=js_f4f4748d8d"
      ],
      "text/plain": [
       "<IPython.core.display.Javascript object>"
      ]
     },
     "metadata": {},
     "output_type": "display_data"
    },
    {
     "data": {
      "application/javascript": [
       "window[\"ecdc32a4-a55c-11ed-b702-0242ac1c000c\"] = google.colab.output.getActiveOutputArea();\n",
       "//# sourceURL=js_4b818786f8"
      ],
      "text/plain": [
       "<IPython.core.display.Javascript object>"
      ]
     },
     "metadata": {},
     "output_type": "display_data"
    },
    {
     "data": {
      "application/javascript": [
       "window[\"ecdc8ab0-a55c-11ed-b702-0242ac1c000c\"] = document.querySelector(\"#id6-0-0\");\n",
       "//# sourceURL=js_3347d31626"
      ],
      "text/plain": [
       "<IPython.core.display.Javascript object>"
      ]
     },
     "metadata": {},
     "output_type": "display_data"
    },
    {
     "data": {
      "application/javascript": [
       "window[\"ecdce1a4-a55c-11ed-b702-0242ac1c000c\"] = google.colab.output.setActiveOutputArea(window[\"ecdc8ab0-a55c-11ed-b702-0242ac1c000c\"]);\n",
       "//# sourceURL=js_43c3e95d2c"
      ],
      "text/plain": [
       "<IPython.core.display.Javascript object>"
      ]
     },
     "metadata": {},
     "output_type": "display_data"
    },
    {
     "data": {
      "application/javascript": [
       "window[\"ecf6c8e4-a55c-11ed-b702-0242ac1c000c\"] = google.colab.output.setActiveOutputArea(window[\"ecdc32a4-a55c-11ed-b702-0242ac1c000c\"]);\n",
       "//# sourceURL=js_d5ad3d7caa"
      ],
      "text/plain": [
       "<IPython.core.display.Javascript object>"
      ]
     },
     "metadata": {},
     "output_type": "display_data"
    },
    {
     "data": {
      "application/javascript": [
       "window[\"ed93633e-a55c-11ed-b702-0242ac1c000c\"] = google.colab.output.getActiveOutputArea();\n",
       "//# sourceURL=js_55a6bda312"
      ],
      "text/plain": [
       "<IPython.core.display.Javascript object>"
      ]
     },
     "metadata": {},
     "output_type": "display_data"
    },
    {
     "data": {
      "application/javascript": [
       "window[\"ed93c9dc-a55c-11ed-b702-0242ac1c000c\"] = document.querySelector(\"#id6-0-0\");\n",
       "//# sourceURL=js_1abbc75707"
      ],
      "text/plain": [
       "<IPython.core.display.Javascript object>"
      ]
     },
     "metadata": {},
     "output_type": "display_data"
    },
    {
     "data": {
      "application/javascript": [
       "window[\"ed94ac44-a55c-11ed-b702-0242ac1c000c\"] = google.colab.output.setActiveOutputArea(window[\"ed93c9dc-a55c-11ed-b702-0242ac1c000c\"]);\n",
       "//# sourceURL=js_b3e8844972"
      ],
      "text/plain": [
       "<IPython.core.display.Javascript object>"
      ]
     },
     "metadata": {},
     "output_type": "display_data"
    },
    {
     "data": {
      "application/javascript": [
       "window[\"edae063a-a55c-11ed-b702-0242ac1c000c\"] = google.colab.output.setActiveOutputArea(window[\"ed93633e-a55c-11ed-b702-0242ac1c000c\"]);\n",
       "//# sourceURL=js_60d5b883fa"
      ],
      "text/plain": [
       "<IPython.core.display.Javascript object>"
      ]
     },
     "metadata": {},
     "output_type": "display_data"
    },
    {
     "data": {
      "application/javascript": [
       "window[\"ee4962b0-a55c-11ed-b702-0242ac1c000c\"] = google.colab.output.getActiveOutputArea();\n",
       "//# sourceURL=js_4f077205fd"
      ],
      "text/plain": [
       "<IPython.core.display.Javascript object>"
      ]
     },
     "metadata": {},
     "output_type": "display_data"
    },
    {
     "data": {
      "application/javascript": [
       "window[\"ee49c2b4-a55c-11ed-b702-0242ac1c000c\"] = document.querySelector(\"#id6-0-0\");\n",
       "//# sourceURL=js_c7fc00e242"
      ],
      "text/plain": [
       "<IPython.core.display.Javascript object>"
      ]
     },
     "metadata": {},
     "output_type": "display_data"
    },
    {
     "data": {
      "application/javascript": [
       "window[\"ee4a5102-a55c-11ed-b702-0242ac1c000c\"] = google.colab.output.setActiveOutputArea(window[\"ee49c2b4-a55c-11ed-b702-0242ac1c000c\"]);\n",
       "//# sourceURL=js_5fc7a8dee5"
      ],
      "text/plain": [
       "<IPython.core.display.Javascript object>"
      ]
     },
     "metadata": {},
     "output_type": "display_data"
    },
    {
     "data": {
      "application/javascript": [
       "window[\"ee6358a0-a55c-11ed-b702-0242ac1c000c\"] = google.colab.output.setActiveOutputArea(window[\"ee4962b0-a55c-11ed-b702-0242ac1c000c\"]);\n",
       "//# sourceURL=js_40a124c8d4"
      ],
      "text/plain": [
       "<IPython.core.display.Javascript object>"
      ]
     },
     "metadata": {},
     "output_type": "display_data"
    },
    {
     "data": {
      "application/javascript": [
       "window[\"eefe7ad8-a55c-11ed-b702-0242ac1c000c\"] = google.colab.output.getActiveOutputArea();\n",
       "//# sourceURL=js_48e6b20b23"
      ],
      "text/plain": [
       "<IPython.core.display.Javascript object>"
      ]
     },
     "metadata": {},
     "output_type": "display_data"
    },
    {
     "data": {
      "application/javascript": [
       "window[\"eeff16be-a55c-11ed-b702-0242ac1c000c\"] = document.querySelector(\"#id6-0-0\");\n",
       "//# sourceURL=js_8981860dae"
      ],
      "text/plain": [
       "<IPython.core.display.Javascript object>"
      ]
     },
     "metadata": {},
     "output_type": "display_data"
    },
    {
     "data": {
      "application/javascript": [
       "window[\"ef00031c-a55c-11ed-b702-0242ac1c000c\"] = google.colab.output.setActiveOutputArea(window[\"eeff16be-a55c-11ed-b702-0242ac1c000c\"]);\n",
       "//# sourceURL=js_f76d129a25"
      ],
      "text/plain": [
       "<IPython.core.display.Javascript object>"
      ]
     },
     "metadata": {},
     "output_type": "display_data"
    },
    {
     "data": {
      "application/javascript": [
       "window[\"ef181204-a55c-11ed-b702-0242ac1c000c\"] = google.colab.output.setActiveOutputArea(window[\"eefe7ad8-a55c-11ed-b702-0242ac1c000c\"]);\n",
       "//# sourceURL=js_36c7bf1aec"
      ],
      "text/plain": [
       "<IPython.core.display.Javascript object>"
      ]
     },
     "metadata": {},
     "output_type": "display_data"
    },
    {
     "data": {
      "application/javascript": [
       "window[\"efb49b9c-a55c-11ed-b702-0242ac1c000c\"] = google.colab.output.getActiveOutputArea();\n",
       "//# sourceURL=js_2ff9ff3cbd"
      ],
      "text/plain": [
       "<IPython.core.display.Javascript object>"
      ]
     },
     "metadata": {},
     "output_type": "display_data"
    },
    {
     "data": {
      "application/javascript": [
       "window[\"efb529e0-a55c-11ed-b702-0242ac1c000c\"] = document.querySelector(\"#id6-0-0\");\n",
       "//# sourceURL=js_8cd360c061"
      ],
      "text/plain": [
       "<IPython.core.display.Javascript object>"
      ]
     },
     "metadata": {},
     "output_type": "display_data"
    },
    {
     "data": {
      "application/javascript": [
       "window[\"efb59f24-a55c-11ed-b702-0242ac1c000c\"] = google.colab.output.setActiveOutputArea(window[\"efb529e0-a55c-11ed-b702-0242ac1c000c\"]);\n",
       "//# sourceURL=js_3fb3fda1cb"
      ],
      "text/plain": [
       "<IPython.core.display.Javascript object>"
      ]
     },
     "metadata": {},
     "output_type": "display_data"
    },
    {
     "data": {
      "image/png": "[encoded data removed]",
      "text/plain": [
       "<Figure size 432x288 with 1 Axes>"
      ]
     },
     "metadata": {
      "needs_background": "light"
     },
     "output_type": "display_data"
    },
    {
     "data": {
      "application/javascript": [
       "window[\"efce8c6e-a55c-11ed-b702-0242ac1c000c\"] = google.colab.output.setActiveOutputArea(window[\"efb49b9c-a55c-11ed-b702-0242ac1c000c\"]);\n",
       "//# sourceURL=js_bba51e34bd"
      ],
      "text/plain": [
       "<IPython.core.display.Javascript object>"
      ]
     },
     "metadata": {},
     "output_type": "display_data"
    }
   ],
   "source": [
    "env = GridEnvironment()\n",
    "agent = RandomAgent(env)\n",
    "\n",
    "obs, info = env.reset()\n",
    "terminated, truncated = False, False\n",
    "\n",
    "output_grid = widgets.Grid(1, 1)\n",
    "with output_grid.output_to(0, 0):\n",
    "  env.render()\n",
    "\n",
    "while not terminated:\n",
    "  action = agent.step(obs)\n",
    "  obs, reward, terminated, truncated, info = env.step(action)\n",
    "  with output_grid.output_to(0, 0):\n",
    "    output_grid.clear_cell()\n",
    "    env.render()\n",
    "  time.sleep(1)"
   ]
  },
  {
   "cell_type": "code",
   "execution_count": 7,
   "metadata": {
    "colab": {
     "base_uri": "https://localhost:8080/",
     "height": 672
    },
    "id": "o1q2KJeZOK4c",
    "outputId": "581ba0f4-3cf3-49aa-ff8d-b3a0bc1c89ad"
   },
   "outputs": [
    {
     "data": {
      "image/png": "[encoded data removed]",
      "text/plain": [
       "<Figure size 1080x720 with 1 Axes>"
      ]
     },
     "metadata": {
      "needs_background": "light"
     },
     "output_type": "display_data"
    }
   ],
   "source": [
    "# Generating reward values.\n",
    "initial_rewards = np.random.choice([-50, -100, 100], 100, p=[0.7, 0.29, 0.01])\n",
    "intermediate_rewards = np.random.choice([-50, -100, 100], 100, p=[0.6, 0.25, 0.15])\n",
    "final_rewards_1 = np.random.choice([-50, -100, 100], 100, p=[0.3, 0.1, 0.6])\n",
    "final_rewards_2 = np.random.choice([-50, -100, 100], 100, p=[0.05, 0.05, 0.9])\n",
    "final_rewards_3 = np.random.choice([-50, -100, 100], 100, p=[0.00, 0.00, 1])\n",
    "\n",
    "reward_per_episode = np.concatenate((initial_rewards, intermediate_rewards,\n",
    "                                    final_rewards_1, final_rewards_2, final_rewards_3))\n",
    "\n",
    "# Reward Dynamics\n",
    "plt.figure(figsize=(15, 10))\n",
    "plt.plot(reward_per_episode, 'ro')\n",
    "plt.xlabel('Episode', fontsize=28)\n",
    "plt.ylabel('Reward Value', fontsize=28)\n",
    "plt.title('Rewards Per Episode (Training)', fontsize=36)\n",
    "plt.xticks(fontsize=24)\n",
    "plt.yticks([-100, -50, 0, 50, 100], fontsize=24)\n",
    "plt.ylim(ymin=-102, ymax=102)\n",
    "plt.xlim(xmin=0, xmax=500)\n",
    "plt.grid()\n",
    "plt.show()"
   ]
  },
  {
   "cell_type": "code",
   "execution_count": 8,
   "metadata": {
    "colab": {
     "base_uri": "https://localhost:8080/",
     "height": 672
    },
    "id": "EiYVVnKXpmV0",
    "outputId": "0fb13c0a-ad5a-478a-f599-e257ef6b03d8"
   },
   "outputs": [
    {
     "data": {
      "image/png": "[encoded data removed]",
      "text/plain": [
       "<Figure size 1080x720 with 1 Axes>"
      ]
     },
     "metadata": {
      "needs_background": "light"
     },
     "output_type": "display_data"
    }
   ],
   "source": [
    "# Epsilon-decay\n",
    "epsilon_values = [(0.99 ** i) * 1 for i in range(500)]\n",
    "plt.figure(figsize=(15, 10))\n",
    "plt.plot(epsilon_values, linewidth=4)\n",
    "plt.xlabel('Episode', fontsize=28)\n",
    "plt.ylabel('Epsilon Values', fontsize=28)\n",
    "plt.title('Epsilon Decay', fontsize=36)\n",
    "plt.xticks(fontsize=24)\n",
    "plt.yticks(fontsize=24)\n",
    "plt.ylim(ymin=0, ymax=1)\n",
    "plt.xlim(xmin=0, xmax=500)\n",
    "plt.grid()\n",
    "plt.show()"
   ]
  }
 ],
 "metadata": {
  "colab": {
   "provenance": []
  },
  "kernelspec": {
   "display_name": "Python 3 (ipykernel)",
   "language": "python",
   "name": "python3"
  },
  "language_info": {
   "codemirror_mode": {
    "name": "ipython",
    "version": 3
   },
   "file_extension": ".py",
   "mimetype": "text/x-python",
   "name": "python",
   "nbconvert_exporter": "python",
   "pygments_lexer": "ipython3",
   "version": "3.10.7"
  }
 },
 "nbformat": 4,
 "nbformat_minor": 1
}
